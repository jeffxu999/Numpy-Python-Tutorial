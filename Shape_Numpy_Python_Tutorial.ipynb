{
  "nbformat": 4,
  "nbformat_minor": 0,
  "metadata": {
    "colab": {
      "name": "Shape - Numpy Python Tutorial.ipynb",
      "version": "0.3.2",
      "provenance": []
    },
    "kernelspec": {
      "name": "python3",
      "display_name": "Python 3"
    }
  },
  "cells": [
    {
      "metadata": {
        "id": "ChyTEkiM4naO",
        "colab_type": "code",
        "colab": {
          "base_uri": "https://localhost:8080/",
          "height": 454
        },
        "outputId": "22c2f7f2-1a50-4024-aa6a-4339bb62c0ba"
      },
      "cell_type": "code",
      "source": [
        "# Shape - Numpy Python Tutorial\n",
        "\n",
        "#######################################################\n",
        "\n",
        "import numpy as np\n",
        "\n",
        "some_list = [i for i in range(10)]\n",
        "\n",
        "some_list = np.array(some_list)\n",
        "\n",
        "print(some_list)\n",
        "\n",
        "print(some_list.shape)\n",
        "\n",
        "#######################################################\n",
        "\n",
        "some_list2 = [some_list for i in range(5)]\n",
        "\n",
        "some_list2 = np.array(some_list2)\n",
        "\n",
        "print(some_list2)\n",
        "\n",
        "print(some_list2.shape)\n",
        "\n",
        "#######################################################\n",
        "\n",
        "some_list3 = [some_list2 for i in range(3)]\n",
        "\n",
        "some_list3 = np.array(some_list3)\n",
        "\n",
        "print(some_list3)\n",
        "\n",
        "print(some_list3.shape)"
      ],
      "execution_count": 3,
      "outputs": [
        {
          "output_type": "stream",
          "text": [
            "[0 1 2 3 4 5 6 7 8 9]\n",
            "(10,)\n",
            "[[0 1 2 3 4 5 6 7 8 9]\n",
            " [0 1 2 3 4 5 6 7 8 9]\n",
            " [0 1 2 3 4 5 6 7 8 9]\n",
            " [0 1 2 3 4 5 6 7 8 9]\n",
            " [0 1 2 3 4 5 6 7 8 9]]\n",
            "(5, 10)\n",
            "[[[0 1 2 3 4 5 6 7 8 9]\n",
            "  [0 1 2 3 4 5 6 7 8 9]\n",
            "  [0 1 2 3 4 5 6 7 8 9]\n",
            "  [0 1 2 3 4 5 6 7 8 9]\n",
            "  [0 1 2 3 4 5 6 7 8 9]]\n",
            "\n",
            " [[0 1 2 3 4 5 6 7 8 9]\n",
            "  [0 1 2 3 4 5 6 7 8 9]\n",
            "  [0 1 2 3 4 5 6 7 8 9]\n",
            "  [0 1 2 3 4 5 6 7 8 9]\n",
            "  [0 1 2 3 4 5 6 7 8 9]]\n",
            "\n",
            " [[0 1 2 3 4 5 6 7 8 9]\n",
            "  [0 1 2 3 4 5 6 7 8 9]\n",
            "  [0 1 2 3 4 5 6 7 8 9]\n",
            "  [0 1 2 3 4 5 6 7 8 9]\n",
            "  [0 1 2 3 4 5 6 7 8 9]]]\n",
            "(3, 5, 10)\n"
          ],
          "name": "stdout"
        }
      ]
    }
  ]
}