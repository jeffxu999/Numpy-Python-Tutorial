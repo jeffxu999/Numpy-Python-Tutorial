{
  "nbformat": 4,
  "nbformat_minor": 0,
  "metadata": {
    "colab": {
      "name": "Linear Algebra - Numpy Python Tutorial.ipynb",
      "version": "0.3.2",
      "provenance": []
    },
    "kernelspec": {
      "name": "python3",
      "display_name": "Python 3"
    }
  },
  "cells": [
    {
      "metadata": {
        "id": "UuIPr1RU40RV",
        "colab_type": "code",
        "colab": {
          "base_uri": "https://localhost:8080/",
          "height": 420
        },
        "outputId": "aaa1c01d-4ba1-4f48-d41d-0e3ee418c1bb"
      },
      "cell_type": "code",
      "source": [
        "# Linear Algebra - Numpy Python Tutorial\n",
        "\n",
        "#######################################################\n",
        "\n",
        "import numpy as np\n",
        "\n",
        "matrix_a = np.matrix([1,2,3])\n",
        "\n",
        "matrix_b = np.matrix([11,12,13])\n",
        "\n",
        "print(matrix_a)\n",
        "print(matrix_b)\n",
        "\n",
        "vector_dot_product = np.vdot(matrix_a,matrix_b)\n",
        "\n",
        "print(vector_dot_product)\n",
        "\n",
        "matrix_c = np.matrix([[1,2,3],[4,5,6]])\n",
        "\n",
        "matrix_d = np.matrix([[11,12],[13,14],[15,16]])\n",
        "\n",
        "print(matrix_c)\n",
        "print(matrix_d)\n",
        "\n",
        "matrix_dot_product = np.dot(matrix_c,matrix_d)\n",
        "\n",
        "print(matrix_dot_product)\n",
        "\n",
        "print(matrix_c.shape)\n",
        "print(matrix_d.shape)\n",
        "\n",
        "#######################################################\n",
        "\n",
        "# A x X = B\n",
        "\n",
        "a = np.matrix([[1,2],[3,4]])\n",
        "b = np.matrix([[9,8],[7,6]])\n",
        "\n",
        "print(a)\n",
        "print(b)\n",
        "\n",
        "x = np.linalg.solve(a,b)\n",
        "\n",
        "print(x)\n",
        "\n",
        "print(a * x)\n",
        "\n",
        "#######################################################\n",
        "\n",
        "some_matrix = np.matrix([[1,2],[3,4]])\n",
        "\n",
        "some_matrix_inverse = np.linalg.inv(some_matrix)\n",
        "\n",
        "print(some_matrix_inverse)\n",
        "\n",
        "print((some_matrix * some_matrix_inverse).round(0))"
      ],
      "execution_count": 3,
      "outputs": [
        {
          "output_type": "stream",
          "text": [
            "[[1 2 3]]\n",
            "[[11 12 13]]\n",
            "[[11]]\n",
            "[[1 2 3]\n",
            " [4 5 6]]\n",
            "[[11 12]\n",
            " [13 14]\n",
            " [15 16]]\n",
            "[[ 82  88]\n",
            " [199 214]]\n",
            "(2, 3)\n",
            "(3, 2)\n",
            "[[1 2]\n",
            " [3 4]]\n",
            "[[9 8]\n",
            " [7 6]]\n",
            "[[-11. -10.]\n",
            " [ 10.   9.]]\n",
            "[[9. 8.]\n",
            " [7. 6.]]\n",
            "[[-2.   1. ]\n",
            " [ 1.5 -0.5]]\n",
            "[[1. 0.]\n",
            " [0. 1.]]\n"
          ],
          "name": "stdout"
        }
      ]
    }
  ]
}