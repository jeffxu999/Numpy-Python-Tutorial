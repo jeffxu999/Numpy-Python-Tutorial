{
  "nbformat": 4,
  "nbformat_minor": 0,
  "metadata": {
    "colab": {
      "name": "Linspace - Numpy Python Tutorial.ipynb",
      "version": "0.3.2",
      "provenance": []
    },
    "kernelspec": {
      "name": "python3",
      "display_name": "Python 3"
    }
  },
  "cells": [
    {
      "metadata": {
        "id": "RzWqBBCm4o8b",
        "colab_type": "code",
        "colab": {}
      },
      "cell_type": "code",
      "source": [
        "# Linspace - Numpy Python Tutorial\n",
        "\n",
        "#######################################################\n",
        "\n",
        "import numpy as np\n",
        "\n",
        "some_array = np.linspace(1,2,3)\n",
        "\n",
        "print(some_array)\n",
        "\n",
        "print(len(some_array))\n",
        "\n",
        "#######################################################\n",
        "\n",
        "import matplotlib.pyplot as plt\n",
        "\n",
        "some_array = np.linspace(1,2,20)\n",
        "\n",
        "x_count = np.arange(20)\n",
        "\n",
        "one = np.ones(20)\n",
        "\n",
        "hundred = np.ones(20)*100\n",
        "\n",
        "plt.scatter(x_count,some_array)\n",
        "\n",
        "plt.scatter(some_array,one)\n",
        "\n",
        "plt.scatter(some_array,hundred)\n",
        "\n",
        "plt.show()"
      ],
      "execution_count": 0,
      "outputs": []
    }
  ]
}