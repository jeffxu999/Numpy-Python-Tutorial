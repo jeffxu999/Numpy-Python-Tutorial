{
  "nbformat": 4,
  "nbformat_minor": 0,
  "metadata": {
    "colab": {
      "name": "Ndim - Numpy Python Tutorial.ipynb",
      "version": "0.3.2",
      "provenance": []
    },
    "kernelspec": {
      "name": "python3",
      "display_name": "Python 3"
    }
  },
  "cells": [
    {
      "metadata": {
        "id": "gwxJy-gj4mb_",
        "colab_type": "code",
        "colab": {
          "base_uri": "https://localhost:8080/",
          "height": 454
        },
        "outputId": "f1b65666-c353-4c89-9702-7eddd1d36e9e"
      },
      "cell_type": "code",
      "source": [
        "# Ndim - Numpy Python Tutorial\n",
        "\n",
        "#######################################################\n",
        "\n",
        "some_list = [i for i in range(10)]\n",
        "\n",
        "some_list = np.array(some_list)\n",
        "\n",
        "print(some_list)\n",
        "\n",
        "print(some_list.ndim)\n",
        "\n",
        "#######################################################\n",
        "\n",
        "some_list2 = [some_list for i in range(5)]\n",
        "\n",
        "some_list2 = np.array(some_list2)\n",
        "\n",
        "print(some_list2)\n",
        "print(some_list2.ndim)\n",
        "\n",
        "#######################################################\n",
        "\n",
        "some_list3 = [some_list2 for i in range(3)]\n",
        "\n",
        "some_list3 = np.array(some_list3)\n",
        "\n",
        "print(some_list3)\n",
        "print(some_list3.ndim)"
      ],
      "execution_count": 9,
      "outputs": [
        {
          "output_type": "stream",
          "text": [
            "[0 1 2 3 4 5 6 7 8 9]\n",
            "1\n",
            "[[0 1 2 3 4 5 6 7 8 9]\n",
            " [0 1 2 3 4 5 6 7 8 9]\n",
            " [0 1 2 3 4 5 6 7 8 9]\n",
            " [0 1 2 3 4 5 6 7 8 9]\n",
            " [0 1 2 3 4 5 6 7 8 9]]\n",
            "2\n",
            "[[[0 1 2 3 4 5 6 7 8 9]\n",
            "  [0 1 2 3 4 5 6 7 8 9]\n",
            "  [0 1 2 3 4 5 6 7 8 9]\n",
            "  [0 1 2 3 4 5 6 7 8 9]\n",
            "  [0 1 2 3 4 5 6 7 8 9]]\n",
            "\n",
            " [[0 1 2 3 4 5 6 7 8 9]\n",
            "  [0 1 2 3 4 5 6 7 8 9]\n",
            "  [0 1 2 3 4 5 6 7 8 9]\n",
            "  [0 1 2 3 4 5 6 7 8 9]\n",
            "  [0 1 2 3 4 5 6 7 8 9]]\n",
            "\n",
            " [[0 1 2 3 4 5 6 7 8 9]\n",
            "  [0 1 2 3 4 5 6 7 8 9]\n",
            "  [0 1 2 3 4 5 6 7 8 9]\n",
            "  [0 1 2 3 4 5 6 7 8 9]\n",
            "  [0 1 2 3 4 5 6 7 8 9]]]\n",
            "3\n"
          ],
          "name": "stdout"
        }
      ]
    }
  ]
}