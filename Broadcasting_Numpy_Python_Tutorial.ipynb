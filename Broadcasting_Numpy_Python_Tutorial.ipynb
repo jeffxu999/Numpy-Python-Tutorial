{
  "nbformat": 4,
  "nbformat_minor": 0,
  "metadata": {
    "colab": {
      "name": "Broadcasting - Numpy Python Tutorial.ipynb",
      "version": "0.3.2",
      "provenance": []
    },
    "kernelspec": {
      "name": "python3",
      "display_name": "Python 3"
    }
  },
  "cells": [
    {
      "metadata": {
        "id": "KeL5lepi4uNW",
        "colab_type": "code",
        "colab": {
          "base_uri": "https://localhost:8080/",
          "height": 672
        },
        "outputId": "01e6d8a4-8682-4f7e-fd77-5f577d0faabf"
      },
      "cell_type": "code",
      "source": [
        "# Broadcasting - Numpy Python Tutorial\n",
        "\n",
        "#######################################################\n",
        "\n",
        "import numpy as np\n",
        "\n",
        "A = np.matrix([[1,2,3],[4,5,6],[7,8,9]])\n",
        "\n",
        "B = np.matrix([[100,100,100],[100,100,100],[100,100,100]])\n",
        "\n",
        "print(A)\n",
        "\n",
        "print(B)\n",
        "\n",
        "print(A + B)\n",
        "\n",
        "print(A - B)\n",
        "\n",
        "C = np.matrix([100,100,100])\n",
        "\n",
        "print(A + C)\n",
        "\n",
        "print(A - C)\n",
        "\n",
        "D = np.matrix([100])\n",
        "\n",
        "print(A + D)\n",
        "\n",
        "print(A - D)\n",
        "\n",
        "#######################################################\n",
        "\n",
        "print(A * B)\n",
        "print(A / B)\n",
        "\n",
        "print(np.tile(C,(3,1)))\n",
        "\n",
        "print(A * np.tile(C,(3,1)))\n",
        "\n",
        "print(A / np.tile(C,(3,1)))"
      ],
      "execution_count": 6,
      "outputs": [
        {
          "output_type": "stream",
          "text": [
            "[[1 2 3]\n",
            " [4 5 6]\n",
            " [7 8 9]]\n",
            "[[100 100 100]\n",
            " [100 100 100]\n",
            " [100 100 100]]\n",
            "[[101 102 103]\n",
            " [104 105 106]\n",
            " [107 108 109]]\n",
            "[[-99 -98 -97]\n",
            " [-96 -95 -94]\n",
            " [-93 -92 -91]]\n",
            "[[101 102 103]\n",
            " [104 105 106]\n",
            " [107 108 109]]\n",
            "[[-99 -98 -97]\n",
            " [-96 -95 -94]\n",
            " [-93 -92 -91]]\n",
            "[[101 102 103]\n",
            " [104 105 106]\n",
            " [107 108 109]]\n",
            "[[-99 -98 -97]\n",
            " [-96 -95 -94]\n",
            " [-93 -92 -91]]\n",
            "[[ 600  600  600]\n",
            " [1500 1500 1500]\n",
            " [2400 2400 2400]]\n",
            "[[0.01 0.02 0.03]\n",
            " [0.04 0.05 0.06]\n",
            " [0.07 0.08 0.09]]\n",
            "[[100 100 100]\n",
            " [100 100 100]\n",
            " [100 100 100]]\n",
            "[[ 600  600  600]\n",
            " [1500 1500 1500]\n",
            " [2400 2400 2400]]\n",
            "[[0.01 0.02 0.03]\n",
            " [0.04 0.05 0.06]\n",
            " [0.07 0.08 0.09]]\n"
          ],
          "name": "stdout"
        }
      ]
    }
  ]
}