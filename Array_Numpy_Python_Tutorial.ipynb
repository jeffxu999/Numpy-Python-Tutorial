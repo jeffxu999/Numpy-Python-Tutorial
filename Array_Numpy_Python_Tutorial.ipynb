{
  "nbformat": 4,
  "nbformat_minor": 0,
  "metadata": {
    "colab": {
      "name": "Array - Numpy Python Tutorial.ipynb",
      "version": "0.3.2",
      "provenance": []
    },
    "kernelspec": {
      "name": "python3",
      "display_name": "Python 3"
    }
  },
  "cells": [
    {
      "metadata": {
        "id": "W5GOJPYt4lBG",
        "colab_type": "code",
        "colab": {
          "base_uri": "https://localhost:8080/",
          "height": 185
        },
        "outputId": "538992a2-3428-463c-91bf-a8b94ba9cc5b"
      },
      "cell_type": "code",
      "source": [
        "# Array - Numpy Python Tutorial\n",
        "\n",
        "#######################################################\n",
        "\n",
        "import numpy as np\n",
        "\n",
        "some_list = [1,2,3,4,5]\n",
        "\n",
        "print(some_list)\n",
        "\n",
        "some_np_list = np.array(some_list)\n",
        "\n",
        "print(some_np_list)\n",
        "\n",
        "#######################################################\n",
        "\n",
        "some_list = [i for i in range(10)]\n",
        "\n",
        "print(some_list)\n",
        "\n",
        "some_np_list = np.arange(10)\n",
        "\n",
        "print(some_np_list)\n",
        "\n",
        "some_np_list2 = np.array([2,3,4,5,6])\n",
        "\n",
        "print(some_np_list2)\n",
        "\n",
        "some_np_list3 = np.arange(0,11,2)\n",
        "\n",
        "print(some_np_list3)\n",
        "\n",
        "#######################################################\n",
        "\n",
        "some_list = [i for i in range(10)]\n",
        "\n",
        "print(some_list)\n",
        "\n",
        "print(some_list[1])\n",
        "\n",
        "some_np_list = np.arange(10)\n",
        "\n",
        "print(some_np_list)\n",
        "\n",
        "print(some_np_list[1])"
      ],
      "execution_count": 3,
      "outputs": [
        {
          "output_type": "stream",
          "text": [
            "[1, 2, 3, 4, 5]\n",
            "[1 2 3 4 5]\n",
            "[0, 1, 2, 3, 4, 5, 6, 7, 8, 9]\n",
            "[0 1 2 3 4 5 6 7 8 9]\n",
            "[2 3 4 5 6]\n",
            "[ 0  2  4  6  8 10]\n",
            "[0, 1, 2, 3, 4, 5, 6, 7, 8, 9]\n",
            "1\n",
            "[0 1 2 3 4 5 6 7 8 9]\n",
            "1\n"
          ],
          "name": "stdout"
        }
      ]
    }
  ]
}