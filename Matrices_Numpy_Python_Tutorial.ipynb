{
  "nbformat": 4,
  "nbformat_minor": 0,
  "metadata": {
    "colab": {
      "name": "Matrices - Numpy Python Tutorial.ipynb",
      "version": "0.3.2",
      "provenance": []
    },
    "kernelspec": {
      "name": "python3",
      "display_name": "Python 3"
    }
  },
  "cells": [
    {
      "metadata": {
        "id": "9NMh7X1W4vSr",
        "colab_type": "code",
        "colab": {
          "base_uri": "https://localhost:8080/",
          "height": 504
        },
        "outputId": "6cba22ff-b475-4710-8b4c-8031e333d739"
      },
      "cell_type": "code",
      "source": [
        "# Matrices - Numpy Python Tutorial\n",
        "\n",
        "#######################################################\n",
        "\n",
        "import numpy as np\n",
        "\n",
        "matrix_a = np.matrix([[1,3,5],[7,9,11],[13,15,17]])\n",
        "\n",
        "matrix_b = np.matrix([[2.0,4.0,6.0],[8.0,10.0,12.0],[14.0,16.0,18.0]])\n",
        "\n",
        "print(matrix_a)\n",
        "\n",
        "print(matrix_b)\n",
        "\n",
        "#######################################################\n",
        "\n",
        "matrix_add = matrix_a + matrix_b\n",
        "\n",
        "print(matrix_add)\n",
        "\n",
        "matrix_subtract = matrix_a - matrix_b\n",
        "\n",
        "print(matrix_subtract)\n",
        "\n",
        "matrix_multiply = matrix_a * matrix_b\n",
        "\n",
        "print(matrix_multiply)\n",
        "\n",
        "matrix_divide = matrix_a - matrix_b\n",
        "\n",
        "print(matrix_divide)\n",
        "\n",
        "matrix_3X = matrix_a * 3\n",
        "\n",
        "print(matrix_3X)\n",
        "\n",
        "#######################################################\n",
        "\n",
        "print(matrix_a.shape)\n",
        "\n",
        "print(matrix_a.dtype)\n",
        "print(matrix_b.dtype)\n",
        "\n",
        "print(matrix_a.size)\n",
        "\n",
        "print(matrix_a.ndim)\n",
        "\n",
        "matrix_inception = np.array([[[[[[[[[9,9,9]]]]]]]]])\n",
        "\n",
        "print(matrix_inception.ndim)\n",
        "\n",
        "print(matrix_inception.shape)\n",
        "\n",
        "print(matrix_inception.size)"
      ],
      "execution_count": 4,
      "outputs": [
        {
          "output_type": "stream",
          "text": [
            "[[ 1  3  5]\n",
            " [ 7  9 11]\n",
            " [13 15 17]]\n",
            "[[ 2.  4.  6.]\n",
            " [ 8. 10. 12.]\n",
            " [14. 16. 18.]]\n",
            "[[ 3.  7. 11.]\n",
            " [15. 19. 23.]\n",
            " [27. 31. 35.]]\n",
            "[[-1. -1. -1.]\n",
            " [-1. -1. -1.]\n",
            " [-1. -1. -1.]]\n",
            "[[ 96. 114. 132.]\n",
            " [240. 294. 348.]\n",
            " [384. 474. 564.]]\n",
            "[[-1. -1. -1.]\n",
            " [-1. -1. -1.]\n",
            " [-1. -1. -1.]]\n",
            "[[ 3  9 15]\n",
            " [21 27 33]\n",
            " [39 45 51]]\n",
            "(3, 3)\n",
            "int64\n",
            "float64\n",
            "9\n",
            "2\n",
            "9\n",
            "(1, 1, 1, 1, 1, 1, 1, 1, 3)\n",
            "3\n"
          ],
          "name": "stdout"
        }
      ]
    }
  ]
}